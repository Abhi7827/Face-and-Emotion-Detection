{
  "nbformat": 4,
  "nbformat_minor": 0,
  "metadata": {
    "colab": {
      "name": "Expression.ipynb",
      "provenance": [],
      "toc_visible": true
    },
    "kernelspec": {
      "name": "python3",
      "display_name": "Python 3"
    },
    "language_info": {
      "name": "python"
    },
    "accelerator": "GPU"
  },
  "cells": [
    {
      "cell_type": "code",
      "execution_count": null,
      "metadata": {
        "colab": {
          "base_uri": "https://localhost:8080/"
        },
        "id": "SQOhvRt61vQH",
        "outputId": "889203c5-3ae9-4db4-9d49-ad8ba50c1884"
      },
      "outputs": [
        {
          "output_type": "stream",
          "name": "stdout",
          "text": [
            "Cloning into 'facial_expressions'...\n",
            "remote: Enumerating objects: 14214, done.\u001b[K\n",
            "remote: Total 14214 (delta 0), reused 0 (delta 0), pack-reused 14214\u001b[K\n",
            "Receiving objects: 100% (14214/14214), 239.65 MiB | 34.50 MiB/s, done.\n",
            "Resolving deltas: 100% (223/223), done.\n",
            "Checking out files: 100% (13996/13996), done.\n"
          ]
        }
      ],
      "source": [
        "!git clone 'https://github.com/muxspace/facial_expressions'"
      ]
    },
    {
      "cell_type": "code",
      "source": [
        "import pandas as pd\n",
        "import numpy as np\n",
        "import cv2\n",
        "\n"
      ],
      "metadata": {
        "id": "adBT4blV15Vd"
      },
      "execution_count": null,
      "outputs": []
    },
    {
      "cell_type": "code",
      "source": [
        "details=pd.read_csv(\"/content/facial_expressions/data/legend.csv\")\n",
        "details"
      ],
      "metadata": {
        "colab": {
          "base_uri": "https://localhost:8080/",
          "height": 424
        },
        "id": "d-X2g6UH2Hb4",
        "outputId": "8104a5cc-6e29-4c41-959d-4a1057b09746"
      },
      "execution_count": null,
      "outputs": [
        {
          "output_type": "execute_result",
          "data": {
            "text/plain": [
              "       user.id                            image    emotion\n",
              "0          628  facial-expressions_2868588k.jpg      anger\n",
              "1          628  facial-expressions_2868585k.jpg   surprise\n",
              "2          628  facial-expressions_2868584k.jpg    disgust\n",
              "3          628  facial-expressions_2868582k.jpg       fear\n",
              "4        dwdii           Aaron_Eckhart_0001.jpg    neutral\n",
              "...        ...                              ...        ...\n",
              "13685  jhamski            SharmilaTagore_80.jpg  HAPPINESS\n",
              "13686  jhamski            SharmilaTagore_81.jpg  HAPPINESS\n",
              "13687  jhamski            SharmilaTagore_82.jpg  HAPPINESS\n",
              "13688  jhamski            SharmilaTagore_83.jpg  HAPPINESS\n",
              "13689  jhamski             SharmilaTagore_9.jpg  HAPPINESS\n",
              "\n",
              "[13690 rows x 3 columns]"
            ],
            "text/html": [
              "\n",
              "  <div id=\"df-efeac9da-cbcd-456b-8614-3f8d82e71e74\">\n",
              "    <div class=\"colab-df-container\">\n",
              "      <div>\n",
              "<style scoped>\n",
              "    .dataframe tbody tr th:only-of-type {\n",
              "        vertical-align: middle;\n",
              "    }\n",
              "\n",
              "    .dataframe tbody tr th {\n",
              "        vertical-align: top;\n",
              "    }\n",
              "\n",
              "    .dataframe thead th {\n",
              "        text-align: right;\n",
              "    }\n",
              "</style>\n",
              "<table border=\"1\" class=\"dataframe\">\n",
              "  <thead>\n",
              "    <tr style=\"text-align: right;\">\n",
              "      <th></th>\n",
              "      <th>user.id</th>\n",
              "      <th>image</th>\n",
              "      <th>emotion</th>\n",
              "    </tr>\n",
              "  </thead>\n",
              "  <tbody>\n",
              "    <tr>\n",
              "      <th>0</th>\n",
              "      <td>628</td>\n",
              "      <td>facial-expressions_2868588k.jpg</td>\n",
              "      <td>anger</td>\n",
              "    </tr>\n",
              "    <tr>\n",
              "      <th>1</th>\n",
              "      <td>628</td>\n",
              "      <td>facial-expressions_2868585k.jpg</td>\n",
              "      <td>surprise</td>\n",
              "    </tr>\n",
              "    <tr>\n",
              "      <th>2</th>\n",
              "      <td>628</td>\n",
              "      <td>facial-expressions_2868584k.jpg</td>\n",
              "      <td>disgust</td>\n",
              "    </tr>\n",
              "    <tr>\n",
              "      <th>3</th>\n",
              "      <td>628</td>\n",
              "      <td>facial-expressions_2868582k.jpg</td>\n",
              "      <td>fear</td>\n",
              "    </tr>\n",
              "    <tr>\n",
              "      <th>4</th>\n",
              "      <td>dwdii</td>\n",
              "      <td>Aaron_Eckhart_0001.jpg</td>\n",
              "      <td>neutral</td>\n",
              "    </tr>\n",
              "    <tr>\n",
              "      <th>...</th>\n",
              "      <td>...</td>\n",
              "      <td>...</td>\n",
              "      <td>...</td>\n",
              "    </tr>\n",
              "    <tr>\n",
              "      <th>13685</th>\n",
              "      <td>jhamski</td>\n",
              "      <td>SharmilaTagore_80.jpg</td>\n",
              "      <td>HAPPINESS</td>\n",
              "    </tr>\n",
              "    <tr>\n",
              "      <th>13686</th>\n",
              "      <td>jhamski</td>\n",
              "      <td>SharmilaTagore_81.jpg</td>\n",
              "      <td>HAPPINESS</td>\n",
              "    </tr>\n",
              "    <tr>\n",
              "      <th>13687</th>\n",
              "      <td>jhamski</td>\n",
              "      <td>SharmilaTagore_82.jpg</td>\n",
              "      <td>HAPPINESS</td>\n",
              "    </tr>\n",
              "    <tr>\n",
              "      <th>13688</th>\n",
              "      <td>jhamski</td>\n",
              "      <td>SharmilaTagore_83.jpg</td>\n",
              "      <td>HAPPINESS</td>\n",
              "    </tr>\n",
              "    <tr>\n",
              "      <th>13689</th>\n",
              "      <td>jhamski</td>\n",
              "      <td>SharmilaTagore_9.jpg</td>\n",
              "      <td>HAPPINESS</td>\n",
              "    </tr>\n",
              "  </tbody>\n",
              "</table>\n",
              "<p>13690 rows × 3 columns</p>\n",
              "</div>\n",
              "      <button class=\"colab-df-convert\" onclick=\"convertToInteractive('df-efeac9da-cbcd-456b-8614-3f8d82e71e74')\"\n",
              "              title=\"Convert this dataframe to an interactive table.\"\n",
              "              style=\"display:none;\">\n",
              "        \n",
              "  <svg xmlns=\"http://www.w3.org/2000/svg\" height=\"24px\"viewBox=\"0 0 24 24\"\n",
              "       width=\"24px\">\n",
              "    <path d=\"M0 0h24v24H0V0z\" fill=\"none\"/>\n",
              "    <path d=\"M18.56 5.44l.94 2.06.94-2.06 2.06-.94-2.06-.94-.94-2.06-.94 2.06-2.06.94zm-11 1L8.5 8.5l.94-2.06 2.06-.94-2.06-.94L8.5 2.5l-.94 2.06-2.06.94zm10 10l.94 2.06.94-2.06 2.06-.94-2.06-.94-.94-2.06-.94 2.06-2.06.94z\"/><path d=\"M17.41 7.96l-1.37-1.37c-.4-.4-.92-.59-1.43-.59-.52 0-1.04.2-1.43.59L10.3 9.45l-7.72 7.72c-.78.78-.78 2.05 0 2.83L4 21.41c.39.39.9.59 1.41.59.51 0 1.02-.2 1.41-.59l7.78-7.78 2.81-2.81c.8-.78.8-2.07 0-2.86zM5.41 20L4 18.59l7.72-7.72 1.47 1.35L5.41 20z\"/>\n",
              "  </svg>\n",
              "      </button>\n",
              "      \n",
              "  <style>\n",
              "    .colab-df-container {\n",
              "      display:flex;\n",
              "      flex-wrap:wrap;\n",
              "      gap: 12px;\n",
              "    }\n",
              "\n",
              "    .colab-df-convert {\n",
              "      background-color: #E8F0FE;\n",
              "      border: none;\n",
              "      border-radius: 50%;\n",
              "      cursor: pointer;\n",
              "      display: none;\n",
              "      fill: #1967D2;\n",
              "      height: 32px;\n",
              "      padding: 0 0 0 0;\n",
              "      width: 32px;\n",
              "    }\n",
              "\n",
              "    .colab-df-convert:hover {\n",
              "      background-color: #E2EBFA;\n",
              "      box-shadow: 0px 1px 2px rgba(60, 64, 67, 0.3), 0px 1px 3px 1px rgba(60, 64, 67, 0.15);\n",
              "      fill: #174EA6;\n",
              "    }\n",
              "\n",
              "    [theme=dark] .colab-df-convert {\n",
              "      background-color: #3B4455;\n",
              "      fill: #D2E3FC;\n",
              "    }\n",
              "\n",
              "    [theme=dark] .colab-df-convert:hover {\n",
              "      background-color: #434B5C;\n",
              "      box-shadow: 0px 1px 3px 1px rgba(0, 0, 0, 0.15);\n",
              "      filter: drop-shadow(0px 1px 2px rgba(0, 0, 0, 0.3));\n",
              "      fill: #FFFFFF;\n",
              "    }\n",
              "  </style>\n",
              "\n",
              "      <script>\n",
              "        const buttonEl =\n",
              "          document.querySelector('#df-efeac9da-cbcd-456b-8614-3f8d82e71e74 button.colab-df-convert');\n",
              "        buttonEl.style.display =\n",
              "          google.colab.kernel.accessAllowed ? 'block' : 'none';\n",
              "\n",
              "        async function convertToInteractive(key) {\n",
              "          const element = document.querySelector('#df-efeac9da-cbcd-456b-8614-3f8d82e71e74');\n",
              "          const dataTable =\n",
              "            await google.colab.kernel.invokeFunction('convertToInteractive',\n",
              "                                                     [key], {});\n",
              "          if (!dataTable) return;\n",
              "\n",
              "          const docLinkHtml = 'Like what you see? Visit the ' +\n",
              "            '<a target=\"_blank\" href=https://colab.research.google.com/notebooks/data_table.ipynb>data table notebook</a>'\n",
              "            + ' to learn more about interactive tables.';\n",
              "          element.innerHTML = '';\n",
              "          dataTable['output_type'] = 'display_data';\n",
              "          await google.colab.output.renderOutput(dataTable, element);\n",
              "          const docLink = document.createElement('div');\n",
              "          docLink.innerHTML = docLinkHtml;\n",
              "          element.appendChild(docLink);\n",
              "        }\n",
              "      </script>\n",
              "    </div>\n",
              "  </div>\n",
              "  "
            ]
          },
          "metadata": {},
          "execution_count": 3
        }
      ]
    },
    {
      "cell_type": "code",
      "source": [
        "temp=details.values\n",
        "temp[2]"
      ],
      "metadata": {
        "colab": {
          "base_uri": "https://localhost:8080/"
        },
        "id": "TnTQE3L59Sak",
        "outputId": "885ffa24-603e-4ed9-d231-f6e6989ae2f6"
      },
      "execution_count": null,
      "outputs": [
        {
          "output_type": "execute_result",
          "data": {
            "text/plain": [
              "array(['628', 'facial-expressions_2868584k.jpg', 'disgust'], dtype=object)"
            ]
          },
          "metadata": {},
          "execution_count": 4
        }
      ]
    },
    {
      "cell_type": "code",
      "source": [
        "emo=np.unique(details.emotion)\n",
        "for i in range(len(emo)):\n",
        "  emo[i]=emo[i].lower()\n",
        "emo =list(set(emo))\n",
        "emo "
      ],
      "metadata": {
        "colab": {
          "base_uri": "https://localhost:8080/"
        },
        "id": "WeU7rpJ72Y9N",
        "outputId": "1b42a917-2d7f-4582-a602-574fe4d229b1"
      },
      "execution_count": null,
      "outputs": [
        {
          "output_type": "execute_result",
          "data": {
            "text/plain": [
              "['sadness',\n",
              " 'fear',\n",
              " 'contempt',\n",
              " 'neutral',\n",
              " 'happiness',\n",
              " 'surprise',\n",
              " 'disgust',\n",
              " 'anger']"
            ]
          },
          "metadata": {},
          "execution_count": 5
        }
      ]
    },
    {
      "cell_type": "code",
      "source": [
        "data={}\n",
        "for row in temp:\n",
        "  key=row[2].lower()\n",
        "  if key in data:\n",
        "    data[key].append(row[1])\n",
        "  else:\n",
        "    data[key]=[row[1]]\n"
      ],
      "metadata": {
        "id": "mMOZzCBr8YkZ"
      },
      "execution_count": null,
      "outputs": []
    },
    {
      "cell_type": "code",
      "source": [
        "data.keys()"
      ],
      "metadata": {
        "colab": {
          "base_uri": "https://localhost:8080/"
        },
        "id": "F8txPhjE9AMh",
        "outputId": "467f9698-78af-4dd3-8217-097b2ab95fac"
      },
      "execution_count": null,
      "outputs": [
        {
          "output_type": "execute_result",
          "data": {
            "text/plain": [
              "dict_keys(['anger', 'surprise', 'disgust', 'fear', 'neutral', 'happiness', 'sadness', 'contempt'])"
            ]
          },
          "metadata": {},
          "execution_count": 7
        }
      ]
    },
    {
      "cell_type": "code",
      "source": [
        "import os\n",
        "os.mkdir('Master data')\n",
        "os.mkdir('Master data/train')\n",
        "os.mkdir('Master data/test')"
      ],
      "metadata": {
        "id": "Op1eO1oP2nB-"
      },
      "execution_count": null,
      "outputs": []
    },
    {
      "cell_type": "code",
      "source": [
        "for emot in emo:\n",
        "  os.mkdir(os.path.join('Master data/train',emot))\n",
        "  os.mkdir(os.path.join('Master data/test',emot))"
      ],
      "metadata": {
        "id": "g9dY0WFs4_Xj"
      },
      "execution_count": null,
      "outputs": []
    },
    {
      "cell_type": "code",
      "source": [
        "from shutil import copyfile\n",
        "split_size=0.8\n",
        "for emotion, image in data.items():\n",
        "  trainsize=int(split_size*len(image))\n",
        "  train_images=image[:trainsize]\n",
        "  test_images=image[trainsize:]\n",
        "  for imag in train_images:\n",
        "    source=os.path.join(\"/content/facial_expressions/images\",imag)\n",
        "    dest=os.path.join(\"/content/Master data/train\",emotion,imag)\n",
        "    copyfile(source,dest)\n",
        "  for imag in test_images:\n",
        "    source=os.path.join(\"/content/facial_expressions/images\",imag)\n",
        "    dest=os.path.join(\"/content/Master data/test\",emotion,imag)\n",
        "    copyfile(source,dest)  "
      ],
      "metadata": {
        "id": "256jpVtK5auB"
      },
      "execution_count": null,
      "outputs": []
    },
    {
      "cell_type": "code",
      "source": [
        "import tensorflow as tf\n",
        "from keras.preprocessing.image import ImageDataGenerator\n",
        "from tensorflow.keras.optimizers import Adam\n",
        "from keras.callbacks import EarlyStopping\n",
        "from keras.layers import MaxPool2D,Conv2D,Flatten,Dense\n",
        "from keras.models import Sequential"
      ],
      "metadata": {
        "id": "ENcDY2xeAJR3"
      },
      "execution_count": null,
      "outputs": []
    },
    {
      "cell_type": "code",
      "source": [
        "from keras.backend import categorical_crossentropy\n",
        "model=Sequential([Conv2D(16,(3,3),activation='relu',input_shape=(100,100,3)),MaxPool2D(2,2)\n",
        ",Conv2D(32,(3,3),activation='relu'),MaxPool2D(2,2),\n",
        "Conv2D(64,(3,3),activation='relu'),MaxPool2D(2,2),\n",
        "Conv2D(128,(3,3),activation='relu'),MaxPool2D(2,2),\n",
        "Conv2D(256,(3,3),activation='relu'),MaxPool2D(2,2),\n",
        "Flatten(),\n",
        "Dense(1700,activation='relu'),\n",
        "\n",
        "\n",
        "\n",
        "\n",
        "\n",
        "\n",
        "\n",
        "\n",
        "\n",
        "\n",
        "\n",
        "\n",
        "\n",
        "\n",
        "\n",
        "\n",
        "\n",
        "\n",
        "\n",
        "\n",
        "\n",
        "\n",
        "\n",
        "\n",
        "\n",
        "\n",
        "\n",
        "\n",
        "\n",
        "\n",
        "\n",
        "\n",
        "\n",
        "\n",
        "\n",
        "\n",
        "\n",
        "\n",
        "\n",
        "\n",
        "\n",
        "\n",
        "\n",
        "\n",
        "\n",
        "\n",
        "\n",
        "\n",
        "\n",
        "\n",
        "\n",
        "\n",
        "\n",
        "\n",
        "\n",
        "\n",
        "\n",
        "\n",
        "\n",
        "\n",
        "\n",
        "\n",
        "\n",
        "\n",
        "\n",
        "\n",
        "\n",
        "\n",
        "\n",
        "\n",
        "\n",
        "\n",
        "\n",
        "\n",
        "\n",
        "\n",
        "\n",
        "\n",
        "\n",
        "\n",
        "\n",
        "\n",
        "\n",
        "\n",
        "\n",
        "\n",
        "\n",
        "\n",
        "\n",
        "\n",
        "\n",
        "\n",
        "\n",
        "\n",
        "\n",
        "\n",
        "\n",
        "\n",
        "\n",
        "\n",
        "\n",
        "\n",
        "\n",
        "\n",
        "\n",
        "\n",
        "\n",
        "\n",
        "\n",
        "\n",
        "\n",
        "\n",
        "\n",
        "\n",
        "\n",
        "\n",
        "\n",
        "\n",
        "\n",
        "\n",
        "\n",
        "\n",
        "\n",
        "\n",
        "\n",
        "\n",
        "\n",
        "\n",
        "\n",
        "\n",
        "\n",
        "\n",
        "\n",
        "\n",
        "\n",
        "\n",
        "\n",
        "\n",
        "\n",
        "\n",
        "\n",
        "\n",
        "\n",
        "\n",
        "\n",
        "\n",
        "\n",
        "\n",
        "\n",
        "\n",
        "\n",
        "\n",
        "\n",
        "\n",
        "\n",
        "\n",
        "\n",
        "\n",
        "\n",
        "\n",
        "\n",
        "\n",
        "\n",
        "\n",
        "\n",
        "\n",
        "\n",
        "\n",
        "\n",
        "\n",
        "\n",
        "\n",
        "\n",
        "\n",
        "\n",
        "\n",
        "\n",
        "\n",
        "\n",
        "\n",
        "\n",
        "\n",
        "\n",
        "\n",
        "\n",
        "\n",
        "\n",
        "\n",
        "\n",
        "\n",
        "\n",
        "\n",
        "\n",
        "\n",
        "\n",
        "\n",
        "\n",
        "\n",
        "\n",
        "\n",
        "\n",
        "\n",
        "\n",
        "\n",
        "\n",
        "\n",
        "\n",
        "\n",
        "\n",
        "\n",
        "\n",
        "\n",
        "\n",
        "\n",
        "\n",
        "\n",
        "\n",
        "\n",
        "\n",
        "\n",
        "\n",
        "\n",
        "\n",
        "\n",
        "\n",
        "\n",
        "\n",
        "\n",
        "\n",
        "\n",
        "\n",
        "\n",
        "\n",
        "\n",
        "\n",
        "\n",
        "\n",
        "\n",
        "\n",
        "\n",
        "\n",
        "\n",
        "\n",
        "\n",
        "\n",
        "\n",
        "\n",
        "\n",
        "\n",
        "\n",
        "\n",
        "\n",
        "\n",
        "\n",
        "\n",
        "\n",
        "\n",
        "\n",
        "\n",
        "\n",
        "\n",
        "\n",
        "\n",
        "\n",
        "\n",
        "\n",
        "\n",
        "\n",
        "\n",
        "\n",
        "\n",
        "\n",
        "\n",
        "\n",
        "\n",
        "\n",
        "\n",
        "\n",
        "\n",
        "\n",
        "\n",
        "\n",
        "\n",
        "\n",
        "\n",
        "\n",
        "\n",
        "\n",
        "\n",
        "\n",
        "\n",
        "\n",
        "\n",
        "\n",
        "\n",
        "\n",
        "\n",
        "\n",
        "\n",
        "\n",
        "\n",
        "\n",
        "\n",
        "\n",
        "\n",
        "\n",
        "\n",
        "\n",
        "\n",
        "\n",
        "\n",
        "\n",
        "\n",
        "\n",
        "\n",
        "\n",
        "\n",
        "\n",
        "\n",
        "\n",
        "\n",
        "\n",
        "\n",
        "\n",
        "\n",
        "\n",
        "\n",
        "\n",
        "\n",
        "\n",
        "\n",
        "\n",
        "\n",
        "\n",
        "\n",
        "\n",
        "\n",
        "\n",
        "\n",
        "\n",
        "\n",
        "\n",
        "\n",
        "\n",
        "\n",
        "\n",
        "\n",
        "\n",
        "\n",
        "\n",
        "\n",
        "\n",
        "\n",
        "\n",
        "\n",
        "\n",
        "\n",
        "\n",
        "\n",
        "\n",
        "\n",
        "\n",
        "\n",
        "\n",
        "\n",
        "\n",
        "\n",
        "\n",
        "\n",
        "\n",
        "\n",
        "\n",
        "\n",
        "\n",
        "Dense(8,activation='softmax')\n",
        "])\n",
        "model.compile(optimizer=Adam(learning_rate=0.001),loss='categorical_crossentropy',metrics=['acc'])\n",
        "model.summary()"
      ],
      "metadata": {
        "colab": {
          "base_uri": "https://localhost:8080/"
        },
        "id": "KccahdVSi2Wz",
        "outputId": "3a8e65cc-201c-48fa-fcbe-3cd4a1152618"
      },
      "execution_count": null,
      "outputs": [
        {
          "output_type": "stream",
          "name": "stdout",
          "text": [
            "Model: \"sequential\"\n",
            "_________________________________________________________________\n",
            " Layer (type)                Output Shape              Param #   \n",
            "=================================================================\n",
            " conv2d (Conv2D)             (None, 98, 98, 16)        448       \n",
            "                                                                 \n",
            " max_pooling2d (MaxPooling2D  (None, 49, 49, 16)       0         \n",
            " )                                                               \n",
            "                                                                 \n",
            " conv2d_1 (Conv2D)           (None, 47, 47, 32)        4640      \n",
            "                                                                 \n",
            " max_pooling2d_1 (MaxPooling  (None, 23, 23, 32)       0         \n",
            " 2D)                                                             \n",
            "                                                                 \n",
            " conv2d_2 (Conv2D)           (None, 21, 21, 64)        18496     \n",
            "                                                                 \n",
            " max_pooling2d_2 (MaxPooling  (None, 10, 10, 64)       0         \n",
            " 2D)                                                             \n",
            "                                                                 \n",
            " conv2d_3 (Conv2D)           (None, 8, 8, 128)         73856     \n",
            "                                                                 \n",
            " max_pooling2d_3 (MaxPooling  (None, 4, 4, 128)        0         \n",
            " 2D)                                                             \n",
            "                                                                 \n",
            " conv2d_4 (Conv2D)           (None, 2, 2, 256)         295168    \n",
            "                                                                 \n",
            " max_pooling2d_4 (MaxPooling  (None, 1, 1, 256)        0         \n",
            " 2D)                                                             \n",
            "                                                                 \n",
            " flatten (Flatten)           (None, 256)               0         \n",
            "                                                                 \n",
            " dense (Dense)               (None, 1700)              436900    \n",
            "                                                                 \n",
            " dense_1 (Dense)             (None, 8)                 13608     \n",
            "                                                                 \n",
            "=================================================================\n",
            "Total params: 843,116\n",
            "Trainable params: 843,116\n",
            "Non-trainable params: 0\n",
            "_________________________________________________________________\n"
          ]
        }
      ]
    },
    {
      "cell_type": "code",
      "source": [
        "train_dir=\"/content/Master data/train\"\n",
        "test_dir=\"/content/Master data/test\"\n",
        "trainDataGen=ImageDataGenerator(rescale=1.0/255)\n",
        "train_gen=trainDataGen.flow_from_directory(train_dir,class_mode='categorical',target_size=(100,100),batch_size=128)\n",
        "testDataGen=ImageDataGenerator(rescale=1.0/255)\n",
        "test_gen=testDataGen.flow_from_directory(test_dir,class_mode='categorical',target_size=(100,100),batch_size=128)"
      ],
      "metadata": {
        "colab": {
          "base_uri": "https://localhost:8080/"
        },
        "id": "hNITs9iSpNu0",
        "outputId": "8358ef28-1fa6-4df9-9637-ffd8b4435f3a"
      },
      "execution_count": null,
      "outputs": [
        {
          "output_type": "stream",
          "name": "stdout",
          "text": [
            "Found 10941 images belonging to 8 classes.\n",
            "Found 2742 images belonging to 8 classes.\n"
          ]
        }
      ]
    },
    {
      "cell_type": "code",
      "source": [
        "es=EarlyStopping(monitor='val_acc',patience=30,min_delta=.01)"
      ],
      "metadata": {
        "id": "LBICIUE8r4tO"
      },
      "execution_count": null,
      "outputs": []
    },
    {
      "cell_type": "code",
      "source": [
        "history=model.fit_generator(train_gen,epochs=1000,verbose=1,callbacks=[es],validation_data=test_gen)"
      ],
      "metadata": {
        "colab": {
          "base_uri": "https://localhost:8080/"
        },
        "id": "BRCnvNSvsKow",
        "outputId": "fa91aff3-835b-42bb-c156-dcfa85d6becf"
      },
      "execution_count": null,
      "outputs": [
        {
          "output_type": "stream",
          "name": "stderr",
          "text": [
            "/usr/local/lib/python3.7/dist-packages/ipykernel_launcher.py:1: UserWarning: `Model.fit_generator` is deprecated and will be removed in a future version. Please use `Model.fit`, which supports generators.\n",
            "  \"\"\"Entry point for launching an IPython kernel.\n"
          ]
        },
        {
          "output_type": "stream",
          "name": "stdout",
          "text": [
            "Epoch 1/1000\n",
            "86/86 [==============================] - 32s 229ms/step - loss: 1.0403 - acc: 0.4873 - val_loss: 2.3669 - val_acc: 0.4774\n",
            "Epoch 2/1000\n",
            "86/86 [==============================] - 19s 216ms/step - loss: 0.9820 - acc: 0.4989 - val_loss: 1.7554 - val_acc: 0.4781\n",
            "Epoch 3/1000\n",
            "86/86 [==============================] - 19s 217ms/step - loss: 0.9867 - acc: 0.4992 - val_loss: 2.5927 - val_acc: 0.4752\n",
            "Epoch 4/1000\n",
            "86/86 [==============================] - 19s 218ms/step - loss: 0.9702 - acc: 0.5064 - val_loss: 2.3583 - val_acc: 0.4756\n",
            "Epoch 5/1000\n",
            "86/86 [==============================] - 19s 219ms/step - loss: 0.9739 - acc: 0.5030 - val_loss: 2.2435 - val_acc: 0.4712\n",
            "Epoch 6/1000\n",
            "86/86 [==============================] - 19s 221ms/step - loss: 0.8582 - acc: 0.6218 - val_loss: 3.1374 - val_acc: 0.6291\n",
            "Epoch 7/1000\n",
            "86/86 [==============================] - 19s 223ms/step - loss: 0.6169 - acc: 0.8014 - val_loss: 2.0845 - val_acc: 0.6637\n",
            "Epoch 8/1000\n",
            "86/86 [==============================] - 18s 213ms/step - loss: 0.5306 - acc: 0.8333 - val_loss: 3.1474 - val_acc: 0.6466\n",
            "Epoch 9/1000\n",
            "86/86 [==============================] - 19s 216ms/step - loss: 0.4802 - acc: 0.8440 - val_loss: 1.8560 - val_acc: 0.6670\n",
            "Epoch 10/1000\n",
            "86/86 [==============================] - 19s 218ms/step - loss: 0.4257 - acc: 0.8603 - val_loss: 1.4336 - val_acc: 0.7017\n",
            "Epoch 11/1000\n",
            "86/86 [==============================] - 19s 219ms/step - loss: 0.4209 - acc: 0.8616 - val_loss: 2.9286 - val_acc: 0.6791\n",
            "Epoch 12/1000\n",
            "86/86 [==============================] - 19s 216ms/step - loss: 0.3830 - acc: 0.8754 - val_loss: 1.7599 - val_acc: 0.6871\n",
            "Epoch 13/1000\n",
            "86/86 [==============================] - 19s 216ms/step - loss: 0.3500 - acc: 0.8846 - val_loss: 2.3302 - val_acc: 0.6838\n",
            "Epoch 14/1000\n",
            "86/86 [==============================] - 19s 216ms/step - loss: 0.3209 - acc: 0.8944 - val_loss: 2.8619 - val_acc: 0.6929\n",
            "Epoch 15/1000\n",
            "86/86 [==============================] - 19s 217ms/step - loss: 0.2884 - acc: 0.9064 - val_loss: 2.4292 - val_acc: 0.6958\n",
            "Epoch 16/1000\n",
            "86/86 [==============================] - 19s 217ms/step - loss: 0.2737 - acc: 0.9108 - val_loss: 2.6809 - val_acc: 0.6853\n",
            "Epoch 17/1000\n",
            "86/86 [==============================] - 19s 217ms/step - loss: 0.2572 - acc: 0.9137 - val_loss: 2.5226 - val_acc: 0.6878\n",
            "Epoch 18/1000\n",
            "86/86 [==============================] - 19s 216ms/step - loss: 0.2209 - acc: 0.9275 - val_loss: 2.6460 - val_acc: 0.6842\n",
            "Epoch 19/1000\n",
            "86/86 [==============================] - 19s 217ms/step - loss: 0.2090 - acc: 0.9304 - val_loss: 2.3867 - val_acc: 0.6893\n",
            "Epoch 20/1000\n",
            "86/86 [==============================] - 18s 214ms/step - loss: 0.1746 - acc: 0.9436 - val_loss: 3.1614 - val_acc: 0.6765\n",
            "Epoch 21/1000\n",
            "86/86 [==============================] - 18s 215ms/step - loss: 0.1541 - acc: 0.9485 - val_loss: 3.2219 - val_acc: 0.6743\n",
            "Epoch 22/1000\n",
            "86/86 [==============================] - 19s 215ms/step - loss: 0.1291 - acc: 0.9566 - val_loss: 3.6555 - val_acc: 0.6758\n",
            "Epoch 23/1000\n",
            "86/86 [==============================] - 19s 216ms/step - loss: 0.1237 - acc: 0.9580 - val_loss: 3.8537 - val_acc: 0.6765\n",
            "Epoch 24/1000\n",
            "86/86 [==============================] - 19s 216ms/step - loss: 0.0811 - acc: 0.9731 - val_loss: 4.4303 - val_acc: 0.6659\n",
            "Epoch 25/1000\n",
            "86/86 [==============================] - 18s 214ms/step - loss: 0.0716 - acc: 0.9750 - val_loss: 3.9458 - val_acc: 0.6838\n",
            "Epoch 26/1000\n",
            "86/86 [==============================] - 18s 214ms/step - loss: 0.0632 - acc: 0.9789 - val_loss: 5.2945 - val_acc: 0.6776\n",
            "Epoch 27/1000\n",
            "86/86 [==============================] - 19s 216ms/step - loss: 0.0605 - acc: 0.9785 - val_loss: 4.1507 - val_acc: 0.6882\n",
            "Epoch 28/1000\n",
            "86/86 [==============================] - 19s 216ms/step - loss: 0.0466 - acc: 0.9833 - val_loss: 5.5182 - val_acc: 0.6667\n",
            "Epoch 29/1000\n",
            "86/86 [==============================] - 18s 215ms/step - loss: 0.0568 - acc: 0.9795 - val_loss: 3.9056 - val_acc: 0.6780\n",
            "Epoch 30/1000\n",
            "86/86 [==============================] - 19s 216ms/step - loss: 0.0857 - acc: 0.9704 - val_loss: 4.0164 - val_acc: 0.6656\n",
            "Epoch 31/1000\n",
            "86/86 [==============================] - 19s 217ms/step - loss: 0.0390 - acc: 0.9864 - val_loss: 5.0939 - val_acc: 0.6699\n",
            "Epoch 32/1000\n",
            "86/86 [==============================] - 19s 215ms/step - loss: 0.0252 - acc: 0.9913 - val_loss: 6.2623 - val_acc: 0.6710\n",
            "Epoch 33/1000\n",
            "86/86 [==============================] - 19s 216ms/step - loss: 0.0261 - acc: 0.9914 - val_loss: 5.1072 - val_acc: 0.6845\n",
            "Epoch 34/1000\n",
            "86/86 [==============================] - 19s 216ms/step - loss: 0.0493 - acc: 0.9830 - val_loss: 4.9720 - val_acc: 0.6794\n",
            "Epoch 35/1000\n",
            "86/86 [==============================] - 18s 214ms/step - loss: 0.0294 - acc: 0.9891 - val_loss: 5.4506 - val_acc: 0.6678\n",
            "Epoch 36/1000\n",
            "86/86 [==============================] - 18s 214ms/step - loss: 0.0190 - acc: 0.9938 - val_loss: 5.5592 - val_acc: 0.6900\n",
            "Epoch 37/1000\n",
            "86/86 [==============================] - 18s 214ms/step - loss: 0.0157 - acc: 0.9950 - val_loss: 5.6489 - val_acc: 0.6794\n",
            "Epoch 38/1000\n",
            "86/86 [==============================] - 19s 216ms/step - loss: 0.0140 - acc: 0.9958 - val_loss: 6.4873 - val_acc: 0.6586\n",
            "Epoch 39/1000\n",
            "86/86 [==============================] - 18s 214ms/step - loss: 0.0180 - acc: 0.9939 - val_loss: 6.4593 - val_acc: 0.6674\n",
            "Epoch 40/1000\n",
            "86/86 [==============================] - 19s 218ms/step - loss: 0.0312 - acc: 0.9899 - val_loss: 5.7097 - val_acc: 0.6718\n"
          ]
        }
      ]
    },
    {
      "cell_type": "code",
      "source": [
        "import matplotlib.pyplot as plt\n"
      ],
      "metadata": {
        "id": "Z8JL4fE-w_76"
      },
      "execution_count": null,
      "outputs": []
    },
    {
      "cell_type": "code",
      "source": [
        "history.history.keys()"
      ],
      "metadata": {
        "colab": {
          "base_uri": "https://localhost:8080/"
        },
        "id": "pE5qzhfry5oQ",
        "outputId": "87ab78f6-f230-482d-e388-916498d8e0a7"
      },
      "execution_count": null,
      "outputs": [
        {
          "output_type": "execute_result",
          "data": {
            "text/plain": [
              "dict_keys(['loss', 'acc', 'val_loss', 'val_acc'])"
            ]
          },
          "metadata": {},
          "execution_count": 17
        }
      ]
    },
    {
      "cell_type": "code",
      "source": [
        "plt.plot(history.history['loss'])\n",
        "plt.plot(history.history['acc'])"
      ],
      "metadata": {
        "colab": {
          "base_uri": "https://localhost:8080/",
          "height": 282
        },
        "id": "nRr0dIthzIyA",
        "outputId": "7438b836-4943-4dde-f327-54f628fbd9b5"
      },
      "execution_count": null,
      "outputs": [
        {
          "output_type": "execute_result",
          "data": {
            "text/plain": [
              "[<matplotlib.lines.Line2D at 0x7f13323a03d0>]"
            ]
          },
          "metadata": {},
          "execution_count": 18
        },
        {
          "output_type": "display_data",
          "data": {
            "text/plain": [
              "<Figure size 432x288 with 1 Axes>"
            ],
            "image/png": "[encoded data removed]"
          },
          "metadata": {
            "needs_background": "light"
          }
        }
      ]
    },
    {
      "cell_type": "code",
      "source": [
        "plt.plot(history.history['val_loss'])\n",
        "plt.plot(history.history['val_acc'])"
      ],
      "metadata": {
        "colab": {
          "base_uri": "https://localhost:8080/",
          "height": 282
        },
        "id": "nU_hfXMfzklK",
        "outputId": "ca2762f8-39e5-44f3-b940-942213b79a0d"
      },
      "execution_count": null,
      "outputs": [
        {
          "output_type": "execute_result",
          "data": {
            "text/plain": [
              "[<matplotlib.lines.Line2D at 0x7f1331efd850>]"
            ]
          },
          "metadata": {},
          "execution_count": 19
        },
        {
          "output_type": "display_data",
          "data": {
            "text/plain": [
              "<Figure size 432x288 with 1 Axes>"
            ],
            "image/png": "[encoded data removed]"
          },
          "metadata": {
            "needs_background": "light"
          }
        }
      ]
    },
    {
      "cell_type": "code",
      "source": [
        "model.save(\"emotion.h5\")"
      ],
      "metadata": {
        "id": "eFc2Hi9po9WS"
      },
      "execution_count": null,
      "outputs": []
    },
    {
      "cell_type": "code",
      "source": [
        "img=cv2.imread('/content/Master data/train/disgust/Avinash_2.jpg')\n",
        "img=cv2.resize(img,(100,100))\n",
        "img=img.reshape(1,100,100,3)\n",
        "res=model.predict(img)\n",
        "key=list(data.keys())\n",
        "key[np.argmax(res)]"
      ],
      "metadata": {
        "colab": {
          "base_uri": "https://localhost:8080/",
          "height": 35
        },
        "id": "G-EPMwxCw87C",
        "outputId": "2978abba-52de-4f4b-8842-5cb39d331f35"
      },
      "execution_count": null,
      "outputs": [
        {
          "output_type": "execute_result",
          "data": {
            "text/plain": [
              "'neutral'"
            ],
            "application/vnd.google.colaboratory.intrinsic+json": {
              "type": "string"
            }
          },
          "metadata": {},
          "execution_count": 42
        }
      ]
    },
    {
      "cell_type": "code",
      "source": [
        ""
      ],
      "metadata": {
        "id": "xZgPImF020rF"
      },
      "execution_count": null,
      "outputs": []
    },
    {
      "cell_type": "code",
      "source": [
        "img=cv2.imread('/content/Master data/train/disgust/Avinash_2.jpg')\n",
        "from google.colab.patches import cv2_imshow\n",
        "cv2_imshow(img)"
      ],
      "metadata": {
        "colab": {
          "base_uri": "https://localhost:8080/",
          "height": 196
        },
        "id": "1C0Cdne8xllR",
        "outputId": "7b411a4f-5adc-4d2d-a96d-ed2e9df3a6d1"
      },
      "execution_count": null,
      "outputs": [
        {
          "output_type": "display_data",
          "data": {
            "text/plain": [
              "<PIL.Image.Image image mode=RGB size=179x179 at 0x7F24379C5410>"
            ],
            "image/png": "[encoded data removed]"
          },
          "metadata": {}
        }
      ]
    },
    {
      "cell_type": "code",
      "source": [
        "img=cv2.resize(img,(100,100))\n",
        "cv2_imshow(img)"
      ],
      "metadata": {
        "colab": {
          "base_uri": "https://localhost:8080/",
          "height": 117
        },
        "id": "icQXRALDyD1Z",
        "outputId": "eea09ef6-5fa4-41b0-86d9-5dbf0da305c2"
      },
      "execution_count": null,
      "outputs": [
        {
          "output_type": "display_data",
          "data": {
            "text/plain": [
              "<PIL.Image.Image image mode=RGB size=100x100 at 0x7F24379B1550>"
            ],
            "image/png": "[encoded data removed]"
          },
          "metadata": {}
        }
      ]
    },
    {
      "cell_type": "code",
      "source": [
        "img=img.reshape(1,100,100,3)"
      ],
      "metadata": {
        "id": "gBljZHoQz4vG"
      },
      "execution_count": null,
      "outputs": []
    },
    {
      "cell_type": "code",
      "source": [
        ""
      ],
      "metadata": {
        "colab": {
          "base_uri": "https://localhost:8080/",
          "height": 35
        },
        "id": "lHPHe0vux38L",
        "outputId": "4ffb7478-baa3-4cc8-cc92-b0395eeaf30d"
      },
      "execution_count": null,
      "outputs": [
        {
          "output_type": "execute_result",
          "data": {
            "application/vnd.google.colaboratory.intrinsic+json": {
              "type": "string"
            },
            "text/plain": [
              "'anger'"
            ]
          },
          "metadata": {},
          "execution_count": 83
        }
      ]
    },
    {
      "cell_type": "code",
      "source": [
        "res"
      ],
      "metadata": {
        "colab": {
          "base_uri": "https://localhost:8080/"
        },
        "id": "Qcrm_97Z06LD",
        "outputId": "5bc8d826-21c8-4111-9460-b6ed4ec4913f"
      },
      "execution_count": null,
      "outputs": [
        {
          "output_type": "execute_result",
          "data": {
            "text/plain": [
              "<tf.Tensor: shape=(1, 8), dtype=float32, numpy=array([[1., 0., 0., 0., 0., 0., 0., 0.]], dtype=float32)>"
            ]
          },
          "metadata": {},
          "execution_count": 73
        }
      ]
    },
    {
      "cell_type": "code",
      "source": [
        ""
      ],
      "metadata": {
        "colab": {
          "base_uri": "https://localhost:8080/",
          "height": 35
        },
        "id": "iLhpuW-I0FQe",
        "outputId": "5d161379-26f9-49d7-df7b-0412eba0017c"
      },
      "execution_count": null,
      "outputs": [
        {
          "output_type": "execute_result",
          "data": {
            "application/vnd.google.colaboratory.intrinsic+json": {
              "type": "string"
            },
            "text/plain": [
              "'anger'"
            ]
          },
          "metadata": {},
          "execution_count": 82
        }
      ]
    },
    {
      "cell_type": "code",
      "source": [
        "# import pickle\n",
        "# with open('emotion.pkl','wb') as f1:\n",
        "#   pickle.dump(model,f1)\n"
      ],
      "metadata": {
        "id": "CKDIMETd1sUN"
      },
      "execution_count": null,
      "outputs": []
    }
  ]
}